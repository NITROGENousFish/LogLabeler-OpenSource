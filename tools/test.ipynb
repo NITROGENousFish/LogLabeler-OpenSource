{
 "cells": [
  {
   "cell_type": "code",
   "execution_count": 13,
   "metadata": {},
   "outputs": [
    {
     "data": {
      "text/plain": [
       "[(1, 'a'), (2, 'b'), (3, 'c')]"
      ]
     },
     "execution_count": 13,
     "metadata": {},
     "output_type": "execute_result"
    }
   ],
   "source": [
    "# 两个等长的列表\n",
    "list1 = [1, 2, 3]\n",
    "list2 = ['a', 'b', 'c']\n",
    "\n",
    "# # 使用 zip 和 列表推导式\n",
    "# merged_list = [item for pair in  for item in pair]\n",
    "\n",
    "# print(merged_list)\n",
    "list(zip(list1, list2))"
   ]
  },
  {
   "cell_type": "code",
   "execution_count": 22,
   "metadata": {},
   "outputs": [],
   "source": [
    "import csv\n",
    "from typing import Iterable\n",
    "def iterable_to_csv_single_line_with_escape(data_iterable:Iterable, delimiter='|'):\n",
    "    def escape_value(value, delimiter):\n",
    "        # Convert the value to a string\n",
    "        value_str = str(value)\n",
    "        # Check if the value contains the delimiter or special characters\n",
    "        if delimiter in value_str or '\"' in value_str or '\\n' in value_str:\n",
    "            # Escape double quotes by doubling them\n",
    "            value_str = value_str.replace('\"', '\"\"')\n",
    "            # Wrap the value in double quotes\n",
    "            value_str = f'\"{value_str}\"'\n",
    "        return value_str\n",
    "    return delimiter.join([escape_value(i, delimiter) for i in data_iterable])"
   ]
  },
  {
   "cell_type": "code",
   "execution_count": 3,
   "metadata": {},
   "outputs": [
    {
     "name": "stdout",
     "output_type": "stream",
     "text": [
      "name|age|city\n",
      "Alice|30|\"Wonderland|City\"\"\"\n",
      "Bob|25|\"Bob|City\"\"\"\n",
      "Charlie|35|\"Charlie|City\"\"\"\n"
     ]
    }
   ],
   "source": [
    "def test1():\n",
    "    import file_tools\n",
    "    # @file_tools.print_to_file(\"/home/lizongyang/hdd2-lizongyang/LOG_ARENA/tools/output.csv\")\n",
    "    def _():\n",
    "        d = [{\"name\": \"Alice\", \"age\": 30, \"city\": 'Wonderland|City\"'}, {\"name\": \"Bob\", \"age\": 25, \"city\": 'Bob|City\"'}, {\"name\": \"Charlie\", \"age\": 35, \"city\": 'Charlie|City\"'}]\n",
    "        print(iterable_to_csv_single_line_with_escape(d[0].keys()))\n",
    "        for item in d:\n",
    "            print(iterable_to_csv_single_line_with_escape(item.values()))\n",
    "    _()\n",
    "test1()"
   ]
  },
  {
   "cell_type": "code",
   "execution_count": 23,
   "metadata": {},
   "outputs": [],
   "source": [
    "def _csv_to_innerlist_single_line_with_escape(csv_string:str, delimiter='|')->list:\n",
    "    return next(csv.reader([csv_string], delimiter=delimiter, quotechar='\"'))"
   ]
  },
  {
   "cell_type": "code",
   "execution_count": null,
   "metadata": {},
   "outputs": [],
   "source": [
    "def test2():\n",
    "    content = 'name|age|city\\nAlice|30|\"Wonderland|City\"\"\"\\nBob|25|\"Bob|City\"\"\"\\nCharlie|35|\"Charlie|City\"\"\"'\n",
    "    c = content.split('\\n')\n",
    "    \n",
    "test1()"
   ]
  },
  {
   "cell_type": "code",
   "execution_count": 11,
   "metadata": {},
   "outputs": [
    {
     "name": "stdout",
     "output_type": "stream",
     "text": [
      "CSV Output:\n",
      " name|age|city\n",
      "Alice|30|\"Wonderland|City\"\n",
      "\n",
      "Parsed Dictionary:\n",
      " {'name': 'Alice', 'age': '30', 'city': 'Wonderland|City'}\n"
     ]
    }
   ],
   "source": [
    "    def unescape_value(value):\n",
    "        # Remove wrapping double quotes if present and unescape double quotes\n",
    "        if value.startswith('\"') and value.endswith('\"'):\n",
    "            value = value[1:-1].replace('\"\"', '\"')\n",
    "        return value\n",
    "    \n",
    "    # Split the CSV string into lines\n",
    "    lines = csv_string.split('\\n')\n",
    "    \n",
    "    # Split the first line to get headers and the second line to get values\n",
    "    headers = lines[0].split(delimiter)\n",
    "    values = lines[1].split(delimiter)\n",
    "    \n",
    "    # Unescape headers and values\n",
    "    unescaped_headers = [unescape_value(header) for header in headers]\n",
    "    unescaped_values = [unescape_value(value) for value in values]\n",
    "    \n",
    "    # Construct the dictionary from headers and values\n",
    "    data_dict = {header: value for header, value in zip(unescaped_headers, unescaped_values)}\n",
    "    \n",
    "    return data_dict\n",
    "\n",
    "def csv_to_dict(csv_string, delimiter='|'):\n",
    "    # Use io.StringIO to create an in-memory file-like object\n",
    "    input = io.StringIO(csv_string)\n",
    "    \n",
    "    # Create a CSV reader with the specified delimiter\n",
    "    csv_reader = csv.reader(input, delimiter=delimiter, quotechar='\"')\n",
    "\n",
    "# Example usage\n",
    "data_dict = {\"name\": \"Alice\", \"age\": 30, \"city\": \"Wonderland|City\"}\n",
    "csv_output = dict_to_csv_with_headers(data_dict)\n",
    "print(\"CSV Output:\\n\", csv_output)\n",
    "\n",
    "# Convert back to dictionary\n",
    "parsed_dict = csv_to_dict(csv_output)\n",
    "print(\"\\nParsed Dictionary:\\n\", parsed_dict"
   ]
  },
  {
   "cell_type": "code",
   "execution_count": 10,
   "metadata": {},
   "outputs": [
    {
     "data": {
      "text/plain": [
       "[0]"
      ]
     },
     "execution_count": 10,
     "metadata": {},
     "output_type": "execute_result"
    }
   ],
   "source": []
  },
  {
   "cell_type": "code",
   "execution_count": null,
   "metadata": {},
   "outputs": [],
   "source": []
  }
 ],
 "metadata": {
  "kernelspec": {
   "display_name": "log",
   "language": "python",
   "name": "python3"
  },
  "language_info": {
   "codemirror_mode": {
    "name": "ipython",
    "version": 3
   },
   "file_extension": ".py",
   "mimetype": "text/x-python",
   "name": "python",
   "nbconvert_exporter": "python",
   "pygments_lexer": "ipython3",
   "version": "3.8.18"
  }
 },
 "nbformat": 4,
 "nbformat_minor": 2
}
